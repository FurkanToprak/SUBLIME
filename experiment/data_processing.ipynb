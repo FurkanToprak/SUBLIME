{
 "cells": [
  {
   "cell_type": "code",
   "execution_count": 2,
   "source": [
    "import pandas as pd\n",
    "import numpy as np\n",
    "from config import datasetPath\n",
    "from os import path"
   ],
   "outputs": [],
   "metadata": {}
  },
  {
   "cell_type": "code",
   "execution_count": null,
   "source": [
    "ratingsPath = path.join(datasetPath, \"ratings.csv\")"
   ],
   "outputs": [],
   "metadata": {}
  },
  {
   "cell_type": "code",
   "execution_count": null,
   "source": [
    "userInteractionData = pd.read_csv(ratingsPath)\n",
    "# drop timestamp feature\n",
    "userInteractionData.drop(\"timestamp\", axis=1, inplace=True)"
   ],
   "outputs": [],
   "metadata": {}
  },
  {
   "cell_type": "code",
   "execution_count": null,
   "source": [
    "numUsers = len(set(userInteractionData['userId']))\n",
    "numMovies = len(set(userInteractionData['movieId']))\n",
    "print(\"Users:\", numUsers)\n",
    "print(\"Movies:\", numMovies)"
   ],
   "outputs": [
    {
     "output_type": "stream",
     "name": "stdout",
     "text": [
      "Users: 138493\n",
      "Movies: 26744\n"
     ]
    }
   ],
   "metadata": {}
  },
  {
   "cell_type": "code",
   "execution_count": null,
   "source": [
    "# We only count the interaction in the interaction matrix if rating >= ratingCutoff\n",
    "ratingCutoff = 3\n",
    "# filter out sparse data\n",
    "numRows = len(userInteractionData)\n",
    "userInteractionData.drop(userInteractionData.index[userInteractionData['rating'] < ratingCutoff], axis=0, inplace=True)\n",
    "# interaction_matrix = np.zeros((numUsers, numMovies))\n",
    "newNumRows = len(userInteractionData)\n",
    "print(f\"Filtered out {numRows - newNumRows}/{numRows} ({100 * (numRows - newNumRows) / numRows}%) through the rating cuttoff of {ratingCutoff}.\")"
   ],
   "outputs": [
    {
     "output_type": "stream",
     "name": "stdout",
     "text": [
      "Filtered out 3513504/20000263 (17.56728899014978%) through the rating cuttoff of 3.\n"
     ]
    }
   ],
   "metadata": {}
  },
  {
   "cell_type": "code",
   "execution_count": null,
   "source": [
    "freqCutoff = 5\n",
    "# if a user has less than freqCutoff interactions, remove user.\n",
    "numRows = len(userInteractionData)\n",
    "userInteractionData['user_freq'] = userInteractionData.groupby('userId')['userId'].transform('count')\n",
    "userInteractionData.drop(userInteractionData.index[userInteractionData['user_freq'] <= freqCutoff], inplace=True)\n",
    "userInteractionData.drop('user_freq', axis=1)\n",
    "# if a movie has less than freqCutoff interactions, remove movie.\n",
    "userInteractionData['movie_freq'] = userInteractionData.groupby('movieId')['movieId'].transform('count')\n",
    "userInteractionData.drop(userInteractionData.index[userInteractionData['movie_freq'] <= freqCutoff], inplace=True)\n",
    "userInteractionData.drop('movie_freq', axis=1)\n",
    "newNumRows = len(userInteractionData)\n",
    "print(f\"Filtered out {numRows - newNumRows}/{numRows} ({100 * (numRows - newNumRows) / numRows}%) through the frequency cuttoff of {freqCutoff}.\")"
   ],
   "outputs": [
    {
     "output_type": "stream",
     "name": "stdout",
     "text": [
      "Filtered out 20097/16486759 (0.12189782115453983%) through the frequency cuttoff of 5.\n"
     ]
    }
   ],
   "metadata": {}
  },
  {
   "cell_type": "code",
   "execution_count": null,
   "source": [
    "numUsers = len(set(userInteractionData['userId']))\n",
    "numMovies = len(set(userInteractionData['movieId']))\n",
    "print(\"Users:\", numUsers)\n",
    "print(\"Movies:\", numMovies)"
   ],
   "outputs": [
    {
     "output_type": "stream",
     "name": "stdout",
     "text": [
      "Users: 138181\n",
      "Movies: 16133\n"
     ]
    }
   ],
   "metadata": {}
  },
  {
   "cell_type": "code",
   "execution_count": null,
   "source": [
    "# shuffle and split dataset\n",
    "\n",
    "trainInteractionMatrix = np.zeros((numUsers, numMovies), dtype=bool)\n",
    "testInteractionMatrix = np.zeros((numUsers, numMovies), dtype=bool)\n",
    "validationInteractionMatrix = np.zeros((numUsers, numMovies), dtype=bool)"
   ],
   "outputs": [],
   "metadata": {}
  },
  {
   "cell_type": "code",
   "execution_count": null,
   "source": [
    "print(userInteractionData.head())"
   ],
   "outputs": [
    {
     "output_type": "error",
     "ename": "NameError",
     "evalue": "name 'userInteractionData' is not defined",
     "traceback": [
      "\u001b[0;31m---------------------------------------------------------------------------\u001b[0m",
      "\u001b[0;31mNameError\u001b[0m                                 Traceback (most recent call last)",
      "\u001b[0;32m/tmp/ipykernel_97692/1268310422.py\u001b[0m in \u001b[0;36m<module>\u001b[0;34m\u001b[0m\n\u001b[0;32m----> 1\u001b[0;31m \u001b[0mprint\u001b[0m\u001b[0;34m(\u001b[0m\u001b[0muserInteractionData\u001b[0m\u001b[0;34m.\u001b[0m\u001b[0mhead\u001b[0m\u001b[0;34m(\u001b[0m\u001b[0;34m)\u001b[0m\u001b[0;34m)\u001b[0m\u001b[0;34m\u001b[0m\u001b[0;34m\u001b[0m\u001b[0m\n\u001b[0m",
      "\u001b[0;31mNameError\u001b[0m: name 'userInteractionData' is not defined"
     ]
    }
   ],
   "metadata": {}
  },
  {
   "cell_type": "code",
   "execution_count": null,
   "source": [],
   "outputs": [],
   "metadata": {}
  }
 ],
 "metadata": {
  "interpreter": {
   "hash": "916dbcbb3f70747c44a77c7bcd40155683ae19c65e1c03b4aa3499c5328201f1"
  },
  "kernelspec": {
   "name": "python3",
   "display_name": "Python 3.8.10 64-bit"
  },
  "language_info": {
   "codemirror_mode": {
    "name": "ipython",
    "version": 3
   },
   "file_extension": ".py",
   "mimetype": "text/x-python",
   "name": "python",
   "nbconvert_exporter": "python",
   "pygments_lexer": "ipython3",
   "version": "3.8.10"
  },
  "orig_nbformat": 4
 },
 "nbformat": 4,
 "nbformat_minor": 2
}
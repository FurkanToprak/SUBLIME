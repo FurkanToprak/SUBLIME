{
 "cells": [
  {
   "cell_type": "code",
   "execution_count": 10,
   "metadata": {},
   "outputs": [],
   "source": [
    "import pandas as pd\n",
    "import numpy as np\n",
    "from config import datasetPath\n",
    "from os import path"
   ]
  },
  {
   "cell_type": "code",
   "execution_count": 11,
   "metadata": {},
   "outputs": [],
   "source": [
    "ratingsPath = path.join(datasetPath, \"ratings.csv\")\n",
    "moviesPath = path.join(datasetPath, \"movies.csv\")"
   ]
  },
  {
   "cell_type": "code",
   "execution_count": 12,
   "metadata": {},
   "outputs": [],
   "source": [
    "userInteractionData = pd.read_csv(ratingsPath)\n",
    "movieData = pd.read_csv(moviesPath)\n",
    "# drop timestamp feature\n",
    "userInteractionData.drop(\"timestamp\", axis=1, inplace=True)"
   ]
  },
  {
   "cell_type": "code",
   "execution_count": 13,
   "metadata": {},
   "outputs": [],
   "source": [
    "numUsers = np.max(userInteractionData['userId'])\n",
    "numMovies = np.max(movieData['movieId'])"
   ]
  },
  {
   "cell_type": "code",
   "execution_count": 14,
   "metadata": {},
   "outputs": [],
   "source": [
    "# We only count the interaction in the interaction matrix if rating >= ratingCutoff\n",
    "ratingCutoff = 3\n",
    "# filter out sparse data\n",
    "numRows = len(userInteractionData)\n",
    "for rowNum in range(numRows):\n",
    "    if userInteractionData.at[rowNum, 'rating'] < ratingCutoff:\n",
    "        userInteractionData.at[rowNum, 'rating'] = 0\n",
    "    else:\n",
    "        userInteractionData.at[rowNum, 'rating'] = 1\n",
    "userInteractionData.drop(userInteractionData.index[userInteractionData['rating'] == 0], axis=0, inplace=True)\n",
    "# interaction_matrix = np.zeros((numUsers, numMovies))\n",
    "newNumRows = len(userInteractionData)\n",
    "print(f\"Filtered out {numRows - newNumRows}/{numRows}.\")"
   ]
  }
 ],
 "metadata": {
  "interpreter": {
   "hash": "916dbcbb3f70747c44a77c7bcd40155683ae19c65e1c03b4aa3499c5328201f1"
  },
  "kernelspec": {
   "display_name": "Python 3.8.10 64-bit",
   "name": "python3"
  },
  "language_info": {
   "codemirror_mode": {
    "name": "ipython",
    "version": 3
   },
   "file_extension": ".py",
   "mimetype": "text/x-python",
   "name": "python",
   "nbconvert_exporter": "python",
   "pygments_lexer": "ipython3",
   "version": "3.8.10"
  },
  "orig_nbformat": 4
 },
 "nbformat": 4,
 "nbformat_minor": 2
}

{
 "cells": [
  {
   "cell_type": "code",
   "execution_count": 32,
   "metadata": {},
   "outputs": [],
   "source": [
    "!pip3 install numpy pandas"
   ]
  },
  {
   "cell_type": "code",
   "execution_count": null,
   "metadata": {},
   "outputs": [],
   "source": [
    "import pandas as pd\n",
    "import numpy as np\n",
    "from config import datasetPath\n",
    "from os import path\n",
    "import math\n",
    "from pickle import dump"
   ]
  },
  {
   "cell_type": "code",
   "execution_count": null,
   "metadata": {},
   "outputs": [],
   "source": [
    "ratingsPath = path.join(datasetPath, \"ratings.csv\")\n",
    "itemFeaturesPath = path.join(datasetPath, 'movies.csv')\n",
    "reformatItemFeaturesPath = path.join(datasetPath, 'item_features.csv')\n",
    "trainDataPath = path.join(datasetPath, \"training.pickle\")\n",
    "testDataPath = path.join(datasetPath, \"testing.pickle\")\n",
    "validationDataPath = path.join(datasetPath, \"validation.pickle\")"
   ]
  },
  {
   "cell_type": "code",
   "execution_count": null,
   "metadata": {},
   "outputs": [],
   "source": [
    "userInteractionData = pd.read_csv(ratingsPath)\n",
    "itemFeatureData = pd.read_csv(itemFeaturesPath)\n",
    "# drop timestamp feature\n",
    "userInteractionData.drop(\"timestamp\", axis=1, inplace=True)\n"
   ]
  },
  {
   "cell_type": "code",
   "execution_count": null,
   "metadata": {},
   "outputs": [
    {
     "name": "stdout",
     "output_type": "stream",
     "text": [
      "Users: 610\n",
      "Movies: 9724\n"
     ]
    }
   ],
   "source": [
    "numUsers = len(set(userInteractionData[\"userId\"]))\n",
    "numMovies = len(set(userInteractionData[\"movieId\"]))\n",
    "print(\"Users:\", numUsers)\n",
    "print(\"Movies:\", numMovies)\n"
   ]
  },
  {
   "cell_type": "code",
   "execution_count": null,
   "metadata": {},
   "outputs": [
    {
     "name": "stdout",
     "output_type": "stream",
     "text": [
      "Filtered out 19073/100836 (18.914871672815263%) through the rating cuttoff of 3.\n"
     ]
    }
   ],
   "source": [
    "# We only count the interaction in the interaction matrix if rating >= ratingCutoff\n",
    "ratingCutoff = 3\n",
    "# filter out sparse data\n",
    "numRows = len(userInteractionData)\n",
    "userInteractionData.drop(\n",
    "    userInteractionData.index[userInteractionData[\"rating\"] < ratingCutoff],\n",
    "    axis=0,\n",
    "    inplace=True,\n",
    ")\n",
    "userInteractionData.drop(\"rating\", axis=1, inplace=True)\n",
    "newNumRows = len(userInteractionData)\n",
    "print(\n",
    "    f\"Filtered out {numRows - newNumRows}/{numRows} ({100 * (numRows - newNumRows) / numRows}%) through the rating cuttoff of {ratingCutoff}.\"\n",
    ")\n"
   ]
  },
  {
   "cell_type": "code",
   "execution_count": null,
   "metadata": {},
   "outputs": [
    {
     "name": "stdout",
     "output_type": "stream",
     "text": [
      "Filtered out 11146/81763 (13.632082971515233%) through the frequency cuttoff of 5.\n"
     ]
    }
   ],
   "source": [
    "freqCutoff = 5\n",
    "# if a user has less than freqCutoff interactions, remove user.\n",
    "numRows = len(userInteractionData)\n",
    "userInteractionData[\"user_freq\"] = userInteractionData.groupby(\"userId\")[\n",
    "    \"userId\"\n",
    "].transform(\"count\")\n",
    "userInteractionData.drop(\n",
    "    userInteractionData.index[userInteractionData[\"user_freq\"] <= freqCutoff],\n",
    "    inplace=True,\n",
    ")\n",
    "userInteractionData.drop(\"user_freq\", axis=1, inplace=True)\n",
    "# if a movie has less than freqCutoff interactions, remove movie.\n",
    "userInteractionData[\"movie_freq\"] = userInteractionData.groupby(\"movieId\")[\n",
    "    \"movieId\"\n",
    "].transform(\"count\")\n",
    "userInteractionData.drop(\n",
    "    userInteractionData.index[userInteractionData[\"movie_freq\"] <= freqCutoff],\n",
    "    inplace=True,\n",
    ")\n",
    "userInteractionData.drop(\"movie_freq\", axis=1, inplace=True)\n",
    "newNumRows = len(userInteractionData)\n",
    "print(\n",
    "    f\"Filtered out {numRows - newNumRows}/{numRows} ({100 * (numRows - newNumRows) / numRows}%) through the frequency cuttoff of {freqCutoff}.\"\n",
    ")\n"
   ]
  },
  {
   "cell_type": "code",
   "execution_count": null,
   "metadata": {},
   "outputs": [
    {
     "name": "stdout",
     "output_type": "stream",
     "text": [
      "Users: 608\n",
      "Movies: 2655\n"
     ]
    }
   ],
   "source": [
    "numUsers = len(set(userInteractionData[\"userId\"]))\n",
    "numMovies = len(set(userInteractionData[\"movieId\"]))\n",
    "print(\"Users:\", numUsers)\n",
    "print(\"Movies:\", numMovies)\n"
   ]
  },
  {
   "cell_type": "code",
   "execution_count": null,
   "metadata": {},
   "outputs": [
    {
     "name": "stdout",
     "output_type": "stream",
     "text": [
      "confirming shuffled. [50486, 61951, 8124]\n",
      "train size: 49431\n",
      "test size: 14123\n",
      "validation size: 7063\n"
     ]
    }
   ],
   "source": [
    "# shuffle and split dataset\n",
    "len_df = len(userInteractionData)\n",
    "train_ratio, test_ratio, validation_ratio = 0.7, 0.2, 0.1\n",
    "train_n = math.floor(train_ratio * len_df)\n",
    "test_n = math.floor(test_ratio * len_df)\n",
    "validation_n = math.floor(validation_ratio * len_df)\n",
    "row_indices = list(range(len_df))\n",
    "np.random.shuffle(row_indices)\n",
    "print(\"confirming shuffled.\", row_indices[0:3])\n",
    "train_split_indices = row_indices[:train_n]\n",
    "test_split_indices = row_indices[train_n : train_n + test_n]\n",
    "validation_split_indices = row_indices[train_n + test_n :]\n",
    "train_split = userInteractionData.index[train_split_indices]\n",
    "test_split = userInteractionData.index[test_split_indices]\n",
    "validation_split = userInteractionData.index[validation_split_indices]\n",
    "print('train size:', train_split.size)\n",
    "print('test size:', test_split.size)\n",
    "print('validation size:', validation_split.size)"
   ]
  },
  {
   "cell_type": "code",
   "execution_count": null,
   "metadata": {},
   "outputs": [
    {
     "data": {
      "text/html": [
       "<div>\n",
       "<style scoped>\n",
       "    .dataframe tbody tr th:only-of-type {\n",
       "        vertical-align: middle;\n",
       "    }\n",
       "\n",
       "    .dataframe tbody tr th {\n",
       "        vertical-align: top;\n",
       "    }\n",
       "\n",
       "    .dataframe thead th {\n",
       "        text-align: right;\n",
       "    }\n",
       "</style>\n",
       "<table border=\"1\" class=\"dataframe\">\n",
       "  <thead>\n",
       "    <tr style=\"text-align: right;\">\n",
       "      <th></th>\n",
       "      <th>userId</th>\n",
       "      <th>movieId</th>\n",
       "    </tr>\n",
       "  </thead>\n",
       "  <tbody>\n",
       "    <tr>\n",
       "      <th>0</th>\n",
       "      <td>1</td>\n",
       "      <td>1</td>\n",
       "    </tr>\n",
       "    <tr>\n",
       "      <th>1</th>\n",
       "      <td>1</td>\n",
       "      <td>3</td>\n",
       "    </tr>\n",
       "    <tr>\n",
       "      <th>2</th>\n",
       "      <td>1</td>\n",
       "      <td>6</td>\n",
       "    </tr>\n",
       "    <tr>\n",
       "      <th>3</th>\n",
       "      <td>1</td>\n",
       "      <td>47</td>\n",
       "    </tr>\n",
       "    <tr>\n",
       "      <th>4</th>\n",
       "      <td>1</td>\n",
       "      <td>50</td>\n",
       "    </tr>\n",
       "    <tr>\n",
       "      <th>...</th>\n",
       "      <td>...</td>\n",
       "      <td>...</td>\n",
       "    </tr>\n",
       "    <tr>\n",
       "      <th>100829</th>\n",
       "      <td>610</td>\n",
       "      <td>164179</td>\n",
       "    </tr>\n",
       "    <tr>\n",
       "      <th>100830</th>\n",
       "      <td>610</td>\n",
       "      <td>166528</td>\n",
       "    </tr>\n",
       "    <tr>\n",
       "      <th>100832</th>\n",
       "      <td>610</td>\n",
       "      <td>168248</td>\n",
       "    </tr>\n",
       "    <tr>\n",
       "      <th>100833</th>\n",
       "      <td>610</td>\n",
       "      <td>168250</td>\n",
       "    </tr>\n",
       "    <tr>\n",
       "      <th>100834</th>\n",
       "      <td>610</td>\n",
       "      <td>168252</td>\n",
       "    </tr>\n",
       "  </tbody>\n",
       "</table>\n",
       "<p>70617 rows × 2 columns</p>\n",
       "</div>"
      ],
      "text/plain": [
       "        userId  movieId\n",
       "0            1        1\n",
       "1            1        3\n",
       "2            1        6\n",
       "3            1       47\n",
       "4            1       50\n",
       "...        ...      ...\n",
       "100829     610   164179\n",
       "100830     610   166528\n",
       "100832     610   168248\n",
       "100833     610   168250\n",
       "100834     610   168252\n",
       "\n",
       "[70617 rows x 2 columns]"
      ]
     },
     "execution_count": 25,
     "metadata": {},
     "output_type": "execute_result"
    }
   ],
   "source": [
    "userInteractionData"
   ]
  },
  {
   "cell_type": "code",
   "execution_count": null,
   "metadata": {},
   "outputs": [],
   "source": [
    "userInteractionData.head()\n",
    "# renumber user and movie ids\n",
    "userMapping = {}\n",
    "movieMapping = {}\n",
    "user_count = 0\n",
    "movie_count = 0\n",
    "for userInteractionIndex in range(len_df):\n",
    "    userInteractionRow = userInteractionData.iloc[userInteractionIndex]\n",
    "    # print(userInteractionRow)\n",
    "    userId = userInteractionRow['userId']\n",
    "    movieId = userInteractionRow['movieId']\n",
    "    if not userId in userMapping:\n",
    "        userMapping[userId] = user_count\n",
    "        user_count += 1\n",
    "    if not movieId in movieMapping:\n",
    "        movieMapping[movieId] = movie_count\n",
    "        movie_count += 1\n",
    "    userId = userMapping[userId]\n",
    "    movieId = movieMapping[movieId]\n",
    "    userInteractionData.iloc[userInteractionIndex].loc['userId'] = userId\n",
    "    userInteractionData.iloc[userInteractionIndex].loc['movieId'] = movieId"
   ]
  },
  {
   "cell_type": "code",
   "execution_count": null,
   "metadata": {},
   "outputs": [],
   "source": [
    "trainRows = userInteractionData.iloc[train_split_indices]\n",
    "testRows = userInteractionData.iloc[test_split_indices]\n",
    "validationRows = userInteractionData.iloc[validation_split_indices]\n",
    "train_matrix = np.zeros((numUsers, numMovies))\n",
    "test_matrix = np.zeros((numUsers, numMovies))\n",
    "validation_matrix = np.zeros((numUsers, numMovies))\n",
    "for trainIndex, trainRow in trainRows.iterrows():\n",
    "    userIndex = trainRow['userId']\n",
    "    movieIndex = trainRow['movieId']\n",
    "    train_matrix[userIndex][movieIndex] = 1\n",
    "for testIndex, testRow in testRows.iterrows():\n",
    "    userIndex = testRow['userId']\n",
    "    movieIndex = testRow['movieId']\n",
    "    test_matrix[userIndex][movieIndex] = 1\n",
    "for validationIndex, validationRow in validationRows.iterrows():\n",
    "    userIndex = validationRow['userId']\n",
    "    movieIndex = validationRow['movieId']\n",
    "    validation_matrix[userIndex][movieIndex] = 1"
   ]
  },
  {
   "cell_type": "code",
   "execution_count": null,
   "metadata": {},
   "outputs": [],
   "source": [
    "# item features, in the form <movieId, feature, value>\n",
    "reformatItemFeatures = pd.DataFrame(columns=['movieId', 'feature', 'value'])\n",
    "for index, row in itemFeatureData.iterrows():\n",
    "    movieId = itemFeatureData.at[index, 'movieId']\n",
    "    if movieId in movieMapping:\n",
    "        movieId = movieMapping[movieId]\n",
    "    else:\n",
    "        continue\n",
    "    title = itemFeatureData.at[index, 'title']\n",
    "    genres = itemFeatureData.at[index, 'genres']\n",
    "    reformatItemFeatures = reformatItemFeatures.append({ \n",
    "        'movieId': movieId,\n",
    "        'feature': 'title',\n",
    "        'value': title\n",
    "    }, ignore_index=True)\n",
    "    reformatItemFeatures = reformatItemFeatures.append({ \n",
    "        'movieId': movieId,\n",
    "        'feature': 'genres',\n",
    "        'value': genres\n",
    "    }, ignore_index=True)"
   ]
  },
  {
   "cell_type": "code",
   "execution_count": null,
   "metadata": {},
   "outputs": [
    {
     "data": {
      "text/html": [
       "<div>\n",
       "<style scoped>\n",
       "    .dataframe tbody tr th:only-of-type {\n",
       "        vertical-align: middle;\n",
       "    }\n",
       "\n",
       "    .dataframe tbody tr th {\n",
       "        vertical-align: top;\n",
       "    }\n",
       "\n",
       "    .dataframe thead th {\n",
       "        text-align: right;\n",
       "    }\n",
       "</style>\n",
       "<table border=\"1\" class=\"dataframe\">\n",
       "  <thead>\n",
       "    <tr style=\"text-align: right;\">\n",
       "      <th></th>\n",
       "      <th>movieId</th>\n",
       "      <th>feature</th>\n",
       "      <th>value</th>\n",
       "    </tr>\n",
       "  </thead>\n",
       "  <tbody>\n",
       "    <tr>\n",
       "      <th>0</th>\n",
       "      <td>0</td>\n",
       "      <td>title</td>\n",
       "      <td>Toy Story (1995)</td>\n",
       "    </tr>\n",
       "    <tr>\n",
       "      <th>1</th>\n",
       "      <td>0</td>\n",
       "      <td>genres</td>\n",
       "      <td>Adventure|Animation|Children|Comedy|Fantasy</td>\n",
       "    </tr>\n",
       "    <tr>\n",
       "      <th>2</th>\n",
       "      <td>375</td>\n",
       "      <td>title</td>\n",
       "      <td>Jumanji (1995)</td>\n",
       "    </tr>\n",
       "    <tr>\n",
       "      <th>3</th>\n",
       "      <td>375</td>\n",
       "      <td>genres</td>\n",
       "      <td>Adventure|Children|Fantasy</td>\n",
       "    </tr>\n",
       "    <tr>\n",
       "      <th>4</th>\n",
       "      <td>1</td>\n",
       "      <td>title</td>\n",
       "      <td>Grumpier Old Men (1995)</td>\n",
       "    </tr>\n",
       "    <tr>\n",
       "      <th>...</th>\n",
       "      <td>...</td>\n",
       "      <td>...</td>\n",
       "      <td>...</td>\n",
       "    </tr>\n",
       "    <tr>\n",
       "      <th>5305</th>\n",
       "      <td>1961</td>\n",
       "      <td>genres</td>\n",
       "      <td>Action|Adventure|Fantasy|Sci-Fi</td>\n",
       "    </tr>\n",
       "    <tr>\n",
       "      <th>5306</th>\n",
       "      <td>2582</td>\n",
       "      <td>title</td>\n",
       "      <td>The Shape of Water (2017)</td>\n",
       "    </tr>\n",
       "    <tr>\n",
       "      <th>5307</th>\n",
       "      <td>2582</td>\n",
       "      <td>genres</td>\n",
       "      <td>Adventure|Drama|Fantasy</td>\n",
       "    </tr>\n",
       "    <tr>\n",
       "      <th>5308</th>\n",
       "      <td>1415</td>\n",
       "      <td>title</td>\n",
       "      <td>Deadpool 2 (2018)</td>\n",
       "    </tr>\n",
       "    <tr>\n",
       "      <th>5309</th>\n",
       "      <td>1415</td>\n",
       "      <td>genres</td>\n",
       "      <td>Action|Comedy|Sci-Fi</td>\n",
       "    </tr>\n",
       "  </tbody>\n",
       "</table>\n",
       "<p>5310 rows × 3 columns</p>\n",
       "</div>"
      ],
      "text/plain": [
       "     movieId feature                                        value\n",
       "0          0   title                             Toy Story (1995)\n",
       "1          0  genres  Adventure|Animation|Children|Comedy|Fantasy\n",
       "2        375   title                               Jumanji (1995)\n",
       "3        375  genres                   Adventure|Children|Fantasy\n",
       "4          1   title                      Grumpier Old Men (1995)\n",
       "...      ...     ...                                          ...\n",
       "5305    1961  genres              Action|Adventure|Fantasy|Sci-Fi\n",
       "5306    2582   title                    The Shape of Water (2017)\n",
       "5307    2582  genres                      Adventure|Drama|Fantasy\n",
       "5308    1415   title                            Deadpool 2 (2018)\n",
       "5309    1415  genres                         Action|Comedy|Sci-Fi\n",
       "\n",
       "[5310 rows x 3 columns]"
      ]
     },
     "execution_count": 30,
     "metadata": {},
     "output_type": "execute_result"
    }
   ],
   "source": [
    "reformatItemFeatures"
   ]
  },
  {
   "cell_type": "code",
   "execution_count": null,
   "metadata": {},
   "outputs": [
    {
     "ename": "NameError",
     "evalue": "name 'reformatItemFeaturesPath' is not defined",
     "output_type": "error",
     "traceback": [
      "\u001b[0;31m---------------------------------------------------------------------------\u001b[0m",
      "\u001b[0;31mNameError\u001b[0m                                 Traceback (most recent call last)",
      "\u001b[0;32m/tmp/ipykernel_61092/1355123484.py\u001b[0m in \u001b[0;36m<module>\u001b[0;34m\u001b[0m\n\u001b[0;32m----> 1\u001b[0;31m \u001b[0mreformatItemFeatures\u001b[0m\u001b[0;34m.\u001b[0m\u001b[0mto_csv\u001b[0m\u001b[0;34m(\u001b[0m\u001b[0mreformatItemFeaturesPath\u001b[0m\u001b[0;34m)\u001b[0m\u001b[0;34m\u001b[0m\u001b[0;34m\u001b[0m\u001b[0m\n\u001b[0m",
      "\u001b[0;31mNameError\u001b[0m: name 'reformatItemFeaturesPath' is not defined"
     ]
    }
   ],
   "source": [
    "reformatItemFeatures.to_csv(reformatItemFeaturesPath)"
   ]
  },
  {
   "cell_type": "code",
   "execution_count": null,
   "metadata": {},
   "outputs": [],
   "source": [
    "with open(trainDataPath, \"wb\") as trainFile:\n",
    "    dump(train_matrix, trainFile) \n",
    "with open(testDataPath, \"wb\") as testFile:\n",
    "    dump(test_matrix, testFile) \n",
    "with open(validationDataPath, \"wb\") as validationFile:\n",
    "    dump(validation_matrix, validationFile) "
   ]
  }
 ],
 "metadata": {
  "interpreter": {
   "hash": "916dbcbb3f70747c44a77c7bcd40155683ae19c65e1c03b4aa3499c5328201f1"
  },
  "kernelspec": {
   "display_name": "Python 3.8.10 64-bit",
   "name": "python3"
  },
  "language_info": {
   "codemirror_mode": {
    "name": "ipython",
    "version": 3
   },
   "file_extension": ".py",
   "mimetype": "text/x-python",
   "name": "python",
   "nbconvert_exporter": "python",
   "pygments_lexer": "ipython3",
   "version": "3.8.10"
  },
  "orig_nbformat": 4
 },
 "nbformat": 4,
 "nbformat_minor": 2
}

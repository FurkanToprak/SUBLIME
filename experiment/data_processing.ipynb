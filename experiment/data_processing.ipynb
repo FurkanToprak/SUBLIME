{
 "cells": [
  {
   "cell_type": "code",
   "execution_count": 101,
   "source": [
    "import pandas as pd\n",
    "import numpy as np\n",
    "from config import datasetPath\n",
    "from os import path\n",
    "import math\n",
    "from sklearn.model_selection import train_test_split\n"
   ],
   "outputs": [],
   "metadata": {}
  },
  {
   "cell_type": "code",
   "execution_count": 102,
   "source": [
    "ratingsPath = path.join(datasetPath, \"ratings.csv\")\n"
   ],
   "outputs": [],
   "metadata": {}
  },
  {
   "cell_type": "code",
   "execution_count": 103,
   "source": [
    "userInteractionData = pd.read_csv(ratingsPath)\n",
    "# drop timestamp feature\n",
    "userInteractionData.drop(\"timestamp\", axis=1, inplace=True)\n"
   ],
   "outputs": [],
   "metadata": {}
  },
  {
   "cell_type": "code",
   "execution_count": 104,
   "source": [
    "numUsers = len(set(userInteractionData[\"userId\"]))\n",
    "numMovies = len(set(userInteractionData[\"movieId\"]))\n",
    "print(\"Users:\", numUsers)\n",
    "print(\"Movies:\", numMovies)\n"
   ],
   "outputs": [
    {
     "output_type": "stream",
     "name": "stdout",
     "text": [
      "Users: 610\n",
      "Movies: 9724\n"
     ]
    }
   ],
   "metadata": {}
  },
  {
   "cell_type": "code",
   "execution_count": 105,
   "source": [
    "# We only count the interaction in the interaction matrix if rating >= ratingCutoff\n",
    "ratingCutoff = 3\n",
    "# filter out sparse data\n",
    "numRows = len(userInteractionData)\n",
    "userInteractionData.drop(\n",
    "    userInteractionData.index[userInteractionData[\"rating\"] < ratingCutoff],\n",
    "    axis=0,\n",
    "    inplace=True,\n",
    ")\n",
    "userInteractionData.drop(\"rating\", axis=1, inplace=True)\n",
    "newNumRows = len(userInteractionData)\n",
    "print(\n",
    "    f\"Filtered out {numRows - newNumRows}/{numRows} ({100 * (numRows - newNumRows) / numRows}%) through the rating cuttoff of {ratingCutoff}.\"\n",
    ")\n"
   ],
   "outputs": [
    {
     "output_type": "stream",
     "name": "stdout",
     "text": [
      "Filtered out 19073/100836 (18.914871672815263%) through the rating cuttoff of 3.\n"
     ]
    }
   ],
   "metadata": {}
  },
  {
   "cell_type": "code",
   "execution_count": 106,
   "source": [
    "freqCutoff = 5\n",
    "# if a user has less than freqCutoff interactions, remove user.\n",
    "numRows = len(userInteractionData)\n",
    "userInteractionData[\"user_freq\"] = userInteractionData.groupby(\"userId\")[\n",
    "    \"userId\"\n",
    "].transform(\"count\")\n",
    "userInteractionData.drop(\n",
    "    userInteractionData.index[userInteractionData[\"user_freq\"] <= freqCutoff],\n",
    "    inplace=True,\n",
    ")\n",
    "userInteractionData.drop(\"user_freq\", axis=1, inplace=True)\n",
    "# if a movie has less than freqCutoff interactions, remove movie.\n",
    "userInteractionData[\"movie_freq\"] = userInteractionData.groupby(\"movieId\")[\n",
    "    \"movieId\"\n",
    "].transform(\"count\")\n",
    "userInteractionData.drop(\n",
    "    userInteractionData.index[userInteractionData[\"movie_freq\"] <= freqCutoff],\n",
    "    inplace=True,\n",
    ")\n",
    "userInteractionData.drop(\"movie_freq\", axis=1, inplace=True)\n",
    "newNumRows = len(userInteractionData)\n",
    "print(\n",
    "    f\"Filtered out {numRows - newNumRows}/{numRows} ({100 * (numRows - newNumRows) / numRows}%) through the frequency cuttoff of {freqCutoff}.\"\n",
    ")\n"
   ],
   "outputs": [
    {
     "output_type": "stream",
     "name": "stdout",
     "text": [
      "Filtered out 11146/81763 (13.632082971515233%) through the frequency cuttoff of 5.\n"
     ]
    }
   ],
   "metadata": {}
  },
  {
   "cell_type": "code",
   "execution_count": 107,
   "source": [
    "numUsers = len(set(userInteractionData[\"userId\"]))\n",
    "numMovies = len(set(userInteractionData[\"movieId\"]))\n",
    "print(\"Users:\", numUsers)\n",
    "print(\"Movies:\", numMovies)\n"
   ],
   "outputs": [
    {
     "output_type": "stream",
     "name": "stdout",
     "text": [
      "Users: 608\n",
      "Movies: 2655\n"
     ]
    }
   ],
   "metadata": {}
  },
  {
   "cell_type": "code",
   "execution_count": 108,
   "source": [
    "# shuffle and split dataset\n",
    "len_df = len(userInteractionData)\n",
    "train_ratio, test_ratio, validation_ratio = 0.7, 0.2, 0.1\n",
    "train_n = math.floor(train_ratio * len_df)\n",
    "test_n = math.floor(test_ratio * len_df)\n",
    "validation_n = math.floor(validation_ratio * len_df)\n",
    "row_indices = list(range(len_df))\n",
    "np.random.shuffle(row_indices)\n",
    "print(\"confirming shuffled.\", row_indices[0:3])\n",
    "train_split_indices = row_indices[:train_n]\n",
    "test_split_indices = row_indices[train_n : train_n + test_n]\n",
    "validation_split_indices = row_indices[train_n + test_n :]\n",
    "train_split = userInteractionData.index[train_split_indices]\n",
    "test_split = userInteractionData.index[test_split_indices]\n",
    "validation_split = userInteractionData.index[validation_split_indices]\n",
    "print('train size:', train_split.size)\n",
    "print('test size:', test_split.size)\n",
    "print('validation size:', validation_split.size)"
   ],
   "outputs": [
    {
     "output_type": "stream",
     "name": "stdout",
     "text": [
      "confirming shuffled. [46734, 6143, 53432]\n",
      "train size: 49431\n",
      "test size: 14123\n",
      "validation size: 7063\n"
     ]
    }
   ],
   "metadata": {}
  },
  {
   "cell_type": "code",
   "execution_count": 109,
   "source": [
    "userInteractionData"
   ],
   "outputs": [
    {
     "output_type": "execute_result",
     "data": {
      "text/plain": [
       "        userId  movieId\n",
       "0            1        1\n",
       "1            1        3\n",
       "2            1        6\n",
       "3            1       47\n",
       "4            1       50\n",
       "...        ...      ...\n",
       "100829     610   164179\n",
       "100830     610   166528\n",
       "100832     610   168248\n",
       "100833     610   168250\n",
       "100834     610   168252\n",
       "\n",
       "[70617 rows x 2 columns]"
      ],
      "text/html": [
       "<div>\n",
       "<style scoped>\n",
       "    .dataframe tbody tr th:only-of-type {\n",
       "        vertical-align: middle;\n",
       "    }\n",
       "\n",
       "    .dataframe tbody tr th {\n",
       "        vertical-align: top;\n",
       "    }\n",
       "\n",
       "    .dataframe thead th {\n",
       "        text-align: right;\n",
       "    }\n",
       "</style>\n",
       "<table border=\"1\" class=\"dataframe\">\n",
       "  <thead>\n",
       "    <tr style=\"text-align: right;\">\n",
       "      <th></th>\n",
       "      <th>userId</th>\n",
       "      <th>movieId</th>\n",
       "    </tr>\n",
       "  </thead>\n",
       "  <tbody>\n",
       "    <tr>\n",
       "      <th>0</th>\n",
       "      <td>1</td>\n",
       "      <td>1</td>\n",
       "    </tr>\n",
       "    <tr>\n",
       "      <th>1</th>\n",
       "      <td>1</td>\n",
       "      <td>3</td>\n",
       "    </tr>\n",
       "    <tr>\n",
       "      <th>2</th>\n",
       "      <td>1</td>\n",
       "      <td>6</td>\n",
       "    </tr>\n",
       "    <tr>\n",
       "      <th>3</th>\n",
       "      <td>1</td>\n",
       "      <td>47</td>\n",
       "    </tr>\n",
       "    <tr>\n",
       "      <th>4</th>\n",
       "      <td>1</td>\n",
       "      <td>50</td>\n",
       "    </tr>\n",
       "    <tr>\n",
       "      <th>...</th>\n",
       "      <td>...</td>\n",
       "      <td>...</td>\n",
       "    </tr>\n",
       "    <tr>\n",
       "      <th>100829</th>\n",
       "      <td>610</td>\n",
       "      <td>164179</td>\n",
       "    </tr>\n",
       "    <tr>\n",
       "      <th>100830</th>\n",
       "      <td>610</td>\n",
       "      <td>166528</td>\n",
       "    </tr>\n",
       "    <tr>\n",
       "      <th>100832</th>\n",
       "      <td>610</td>\n",
       "      <td>168248</td>\n",
       "    </tr>\n",
       "    <tr>\n",
       "      <th>100833</th>\n",
       "      <td>610</td>\n",
       "      <td>168250</td>\n",
       "    </tr>\n",
       "    <tr>\n",
       "      <th>100834</th>\n",
       "      <td>610</td>\n",
       "      <td>168252</td>\n",
       "    </tr>\n",
       "  </tbody>\n",
       "</table>\n",
       "<p>70617 rows × 2 columns</p>\n",
       "</div>"
      ]
     },
     "metadata": {},
     "execution_count": 109
    }
   ],
   "metadata": {}
  },
  {
   "cell_type": "code",
   "execution_count": 110,
   "source": [
    "userInteractionData.head()\n",
    "# renumber user and movie ids\n",
    "userMapping = {}\n",
    "movieMapping = {}\n",
    "user_count = 0\n",
    "movie_count = 0\n",
    "for userInteractionIndex in range(len_df):\n",
    "    userInteractionRow = userInteractionData.iloc[userInteractionIndex]\n",
    "    # print(userInteractionRow)\n",
    "    userId = userInteractionRow['userId']\n",
    "    movieId = userInteractionRow['movieId']\n",
    "    if not userId in userMapping:\n",
    "        userMapping[userId] = user_count\n",
    "        user_count += 1\n",
    "    if not movieId in movieMapping:\n",
    "        movieMapping[movieId] = movie_count\n",
    "        movie_count += 1\n",
    "    userId = userMapping[userId]\n",
    "    movieId = movieMapping[movieId]\n",
    "    userInteractionData.iloc[userInteractionIndex]['userId'] = userId\n",
    "    userInteractionData.iloc[userInteractionIndex]['movieId'] = movieId"
   ],
   "outputs": [],
   "metadata": {}
  },
  {
   "cell_type": "code",
   "execution_count": 113,
   "source": [
    "trainRows = userInteractionData.index[train_split_indices]\n",
    "testRows = userInteractionData.index[test_split_indices]\n",
    "validationRows = userInteractionData.index[validation_split_indices]\n",
    "train_matrix = np.zeros((numUsers, numMovies))\n",
    "test_matrix = np.zeros((numUsers, numMovies))\n",
    "validation_matrix = np.zeros((numUsers, numMovies))\n",
    "for trainRow in trainRows:\n",
    "    userIndex = trainRow['userId']\n",
    "    movieIndex = trainRow['movieId']\n",
    "    train_matrix[userIndex][movieIndex] = 1\n",
    "for testRow in testRows:\n",
    "    userIndex = testRow['userId']\n",
    "    movieIndex = testRow['movieId']\n",
    "    test_matrix[userIndex][movieIndex] = 1\n",
    "for validationRow in validationRows:\n",
    "    userIndex = validationRow['userId']\n",
    "    movieIndex = validationRow['movieId']\n",
    "    validation_matrix[userIndex][movieIndex] = 1"
   ],
   "outputs": [
    {
     "output_type": "stream",
     "name": "stdout",
     "text": [
      "Int64Index([64933,  8584, 75086, 63725, 59194, 12619, 99163,   217, 27909,\n",
      "            14915,\n",
      "            ...\n",
      "            44622, 68737, 95927, 22883, 78559,   890, 36535,  2149, 54167,\n",
      "             6839],\n",
      "           dtype='int64', length=49431)\n"
     ]
    }
   ],
   "metadata": {}
  },
  {
   "cell_type": "code",
   "execution_count": null,
   "source": [],
   "outputs": [],
   "metadata": {}
  }
 ],
 "metadata": {
  "interpreter": {
   "hash": "916dbcbb3f70747c44a77c7bcd40155683ae19c65e1c03b4aa3499c5328201f1"
  },
  "kernelspec": {
   "name": "python3",
   "display_name": "Python 3.8.10 64-bit"
  },
  "language_info": {
   "codemirror_mode": {
    "name": "ipython",
    "version": 3
   },
   "file_extension": ".py",
   "mimetype": "text/x-python",
   "name": "python",
   "nbconvert_exporter": "python",
   "pygments_lexer": "ipython3",
   "version": "3.8.10"
  },
  "orig_nbformat": 4
 },
 "nbformat": 4,
 "nbformat_minor": 2
}
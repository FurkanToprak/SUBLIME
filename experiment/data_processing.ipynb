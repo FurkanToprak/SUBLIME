{
 "cells": [
  {
   "cell_type": "code",
   "execution_count": 27,
   "metadata": {},
   "outputs": [],
   "source": [
    "import pandas as pd\n",
    "import numpy as np\n",
    "from config import datasetPath\n",
    "from os import path"
   ]
  },
  {
   "cell_type": "code",
   "execution_count": 28,
   "metadata": {},
   "outputs": [],
   "source": [
    "ratingsPath = path.join(datasetPath, \"ratings.csv\")\n",
    "moviesPath = path.join(datasetPath, \"movies.csv\")"
   ]
  },
  {
   "cell_type": "code",
   "execution_count": 29,
   "metadata": {},
   "outputs": [],
   "source": [
    "userInteractionData = pd.read_csv(ratingsPath)\n",
    "movieData = pd.read_csv(moviesPath)\n",
    "# drop timestamp feature\n",
    "userInteractionData.drop(\"timestamp\", axis=1, inplace=True)"
   ]
  },
  {
   "cell_type": "code",
   "execution_count": 30,
   "metadata": {},
   "outputs": [],
   "source": [
    "numUsers = len(set(userInteractionData['userId']))\n",
    "numMovies = len(set(movieData['movieId']))"
   ]
  },
  {
   "cell_type": "code",
   "execution_count": 31,
   "metadata": {},
   "outputs": [
    {
     "name": "stdout",
     "output_type": "stream",
     "text": [
      "Filtered out 3513504/20000263 (17.56728899014978%) through the rating cuttoff of 3.\n"
     ]
    }
   ],
   "source": [
    "# We only count the interaction in the interaction matrix if rating >= ratingCutoff\n",
    "ratingCutoff = 3\n",
    "# filter out sparse data\n",
    "numRows = len(userInteractionData)\n",
    "userInteractionData.drop(userInteractionData.index[userInteractionData['rating'] < ratingCutoff], axis=0, inplace=True)\n",
    "# interaction_matrix = np.zeros((numUsers, numMovies))\n",
    "newNumRows = len(userInteractionData)\n",
    "print(f\"Filtered out {numRows - newNumRows}/{numRows} ({100 * (numRows - newNumRows) / numRows}%) through the rating cuttoff of {ratingCutoff}.\")"
   ]
  },
  {
   "cell_type": "code",
   "execution_count": 32,
   "metadata": {},
   "outputs": [
    {
     "name": "stdout",
     "output_type": "stream",
     "text": [
      "Filtered out 20097/16486759 (0.12189782115453983%) through the frequency cuttoff of 5.\n"
     ]
    }
   ],
   "source": [
    "freqCutoff = 5\n",
    "# if a user has less than freqCutoff interactions, remove user.\n",
    "numRows = len(userInteractionData)\n",
    "userInteractionData['user_freq'] = userInteractionData.groupby('userId')['userId'].transform('count')\n",
    "userInteractionData.drop(userInteractionData.index[userInteractionData['user_freq'] <= freqCutoff], inplace=True)\n",
    "userInteractionData.drop('user_freq', axis=1)\n",
    "# if a movie has less than freqCutoff interactions, remove movie.\n",
    "userInteractionData['movie_freq'] = userInteractionData.groupby('movieId')['movieId'].transform('count')\n",
    "userInteractionData.drop(userInteractionData.index[userInteractionData['movie_freq'] <= freqCutoff], inplace=True)\n",
    "userInteractionData.drop('movie_freq', axis=1)\n",
    "newNumRows = len(userInteractionData)\n",
    "print(f\"Filtered out {numRows - newNumRows}/{numRows} ({100 * (numRows - newNumRows) / numRows}%) through the frequency cuttoff of {freqCutoff}.\")"
   ]
  },
  {
   "cell_type": "code",
   "execution_count": null,
   "metadata": {},
   "outputs": [],
   "source": []
  }
 ],
 "metadata": {
  "interpreter": {
   "hash": "916dbcbb3f70747c44a77c7bcd40155683ae19c65e1c03b4aa3499c5328201f1"
  },
  "kernelspec": {
   "display_name": "Python 3.8.10 64-bit",
   "name": "python3"
  },
  "language_info": {
   "codemirror_mode": {
    "name": "ipython",
    "version": 3
   },
   "file_extension": ".py",
   "mimetype": "text/x-python",
   "name": "python",
   "nbconvert_exporter": "python",
   "pygments_lexer": "ipython3",
   "version": "3.8.10"
  },
  "orig_nbformat": 4
 },
 "nbformat": 4,
 "nbformat_minor": 2
}
